{
 "cells": [
  {
   "cell_type": "code",
   "execution_count": null,
   "id": "eb440faf",
   "metadata": {},
   "outputs": [],
   "source": [
    "import folium, json, requests, math\n",
    "import pandas as pd\n",
    "import numpy as np"
   ]
  },
  {
   "cell_type": "markdown",
   "id": "1c1e695b",
   "metadata": {},
   "source": [
    "### Create map of both stations and the influence area\n",
    "the influence area has been obtained by the (rawBN) code below"
   ]
  },
  {
   "cell_type": "code",
   "execution_count": null,
   "id": "e1fcd667",
   "metadata": {},
   "outputs": [],
   "source": [
    "dfsta=pd.read_csv('../data/staions_influence_4.csv', index_col=0)\n",
    "dfsta.head(2)"
   ]
  },
  {
   "cell_type": "code",
   "execution_count": null,
   "id": "b9fa1c17",
   "metadata": {},
   "outputs": [],
   "source": [
    "len(dfsta),dfsta.head(1)"
   ]
  },
  {
   "cell_type": "code",
   "execution_count": null,
   "id": "677dd770",
   "metadata": {},
   "outputs": [],
   "source": [
    "dfsta = dfsta.rename(columns = {\"CODGEO\":\"code\"})"
   ]
  },
  {
   "cell_type": "code",
   "execution_count": null,
   "id": "427feaf4",
   "metadata": {
    "scrolled": true
   },
   "outputs": [],
   "source": [
    "poly=pd.read_csv('../data/communes_geometry.csv', index_col=0)\n",
    "poly.head(2)"
   ]
  },
  {
   "cell_type": "code",
   "execution_count": null,
   "id": "09e24625",
   "metadata": {},
   "outputs": [],
   "source": [
    "final_df = dfsta.merge(poly, on = \"code\",  how='inner')"
   ]
  },
  {
   "cell_type": "markdown",
   "id": "ec181f0e",
   "metadata": {},
   "source": [
    "Convert polygons to plot them on a choropleth map"
   ]
  },
  {
   "cell_type": "code",
   "execution_count": null,
   "id": "ec042443",
   "metadata": {},
   "outputs": [],
   "source": [
    "from shapely import wkt\n",
    "\n",
    "from shapely.geometry import shape\n",
    "import geopandas as gpd\n",
    "\n",
    "final_df.crs = 'epsg:4326'\n",
    "final_df['geometry'] = final_df['geometry'].apply(wkt.loads)\n",
    "final_df = gpd.GeoDataFrame(final_df, crs='epsg:4326')"
   ]
  },
  {
   "cell_type": "code",
   "execution_count": null,
   "id": "6c6471e8",
   "metadata": {},
   "outputs": [],
   "source": [
    "final_df.dtypes"
   ]
  },
  {
   "cell_type": "code",
   "execution_count": null,
   "id": "2a37a1f0",
   "metadata": {},
   "outputs": [],
   "source": [
    "final_df.head(1)"
   ]
  },
  {
   "cell_type": "code",
   "execution_count": null,
   "id": "893c880f",
   "metadata": {},
   "outputs": [],
   "source": [
    "final_df.isnull().sum()"
   ]
  },
  {
   "cell_type": "markdown",
   "id": "5c08a27d",
   "metadata": {},
   "source": [
    "### Build MAP"
   ]
  },
  {
   "cell_type": "code",
   "execution_count": null,
   "id": "f5df8695",
   "metadata": {},
   "outputs": [],
   "source": [
    "# Make an empty map\n",
    "map = folium.Map(location = [46.71109,1.7191036],tiles='cartodbpositron',\n",
    "               zoom_start=6,min_zoom = 5,max_zoom = 12)"
   ]
  },
  {
   "cell_type": "code",
   "execution_count": null,
   "id": "d2eb2174",
   "metadata": {},
   "outputs": [],
   "source": [
    "#Add title\n",
    "\n",
    "\n",
    "loc = 'Air quality measurement stations'\n",
    "sub = '& their 4 kms radius influenced communes'\n",
    "title_html = '''\n",
    "<h3 align=\"center\" style=\"font-size:16px ; color:#666666; padding:5px 0px;margin:0px; z-index:10\">\n",
    "{}</h3>\n",
    "<h4 align=\"center\" style=\"font-size:12px ; color:#777777; padding:0px 0px 9px 0px;margin:0px\">{}</h4>'''.format(loc,sub)   \n",
    "\n",
    "\n",
    "map.get_root().html.add_child(folium.Element(title_html))\n",
    "\n"
   ]
  },
  {
   "cell_type": "code",
   "execution_count": null,
   "id": "657f41c1",
   "metadata": {},
   "outputs": [],
   "source": [
    "style = {'fillColor': '#f5f5f5', 'lineColor': '#ffffbf'}\n",
    "\n",
    "folium.GeoJson(\n",
    "    data=final_df[\"geometry\"],\n",
    "    style_function=lambda feature: {\n",
    "        'fillColor': '#cc6666',\n",
    "        'color': '#993333',\n",
    "        'weight': 0.3,\n",
    "    }\n",
    ").add_to(map)"
   ]
  },
  {
   "cell_type": "code",
   "execution_count": null,
   "id": "95213a58",
   "metadata": {},
   "outputs": [],
   "source": [
    "dfsta=final_df.groupby('Station').median().reset_index()\n",
    "dfsta.head(1)\n",
    "len(final_df),len(dfsta)"
   ]
  },
  {
   "cell_type": "code",
   "execution_count": null,
   "id": "37830ce2",
   "metadata": {},
   "outputs": [],
   "source": [
    "coloralpha='rgba(0,0,0,0.3)'\n",
    "for lat,lan,Station in zip(dfsta['lat'],dfsta['lon'],dfsta['Station']):\n",
    "    # Marker() takes location coordinates\n",
    "    # as a list as an argument\n",
    "    folium.CircleMarker(location=[lat,lan],\n",
    "                  popup = 'Station: {}.format(Station)',\n",
    "                  radius=2, fill=True,\n",
    "                  color=coloralpha, fill_color='#000033', opacity=0.2,fill_opacity=0.9, weight= 1,\n",
    "                 ).add_to(map)\n",
    "    \n",
    "map"
   ]
  },
  {
   "cell_type": "code",
   "execution_count": null,
   "id": "05a0cb98",
   "metadata": {},
   "outputs": [],
   "source": [
    "map.save('stations_influence.html')"
   ]
  },
  {
   "cell_type": "markdown",
   "id": "a942f4cc",
   "metadata": {},
   "source": [
    "<br><br><br><br><br><br><br>\n",
    "### Previous code used to obtain the 4 kms influence from each station.\n",
    "Long loop"
   ]
  },
  {
   "cell_type": "raw",
   "id": "a6e1b914",
   "metadata": {},
   "source": [
    "df=pd.read_csv('../data/stations_all_pollutants1.csv')[['code site','Code commune','lat','lon']]\n",
    "df"
   ]
  },
  {
   "cell_type": "raw",
   "id": "3361d5f3",
   "metadata": {},
   "source": [
    "def fours(ge):\n",
    "        k=len(ge)\n",
    "        if k == 4:\n",
    "            m= '0'+ge\n",
    "            return m\n",
    "        else:\n",
    "            return ge\n",
    "        \n",
    "df['Code commune']=df['Code commune'].apply(fours)"
   ]
  },
  {
   "cell_type": "raw",
   "id": "a6eb96b1",
   "metadata": {},
   "source": [
    "df['coords']=[', '.join(str(x) for x in y) for y in map(tuple, df[['lat', 'lon']].values)]"
   ]
  },
  {
   "cell_type": "raw",
   "id": "0ed49abb",
   "metadata": {},
   "source": [
    "df['coords']"
   ]
  },
  {
   "cell_type": "raw",
   "id": "dd0fd7c7",
   "metadata": {},
   "source": [
    "df1=pd.read_csv('../data/code_insee_code_postal.csv', sep=';')\n",
    "df1['geost']=''"
   ]
  },
  {
   "cell_type": "raw",
   "id": "d4a0755f",
   "metadata": {},
   "source": [
    "df1['Code INSEE']=df1['Code INSEE'].apply(fours)\n",
    "df1"
   ]
  },
  {
   "cell_type": "raw",
   "id": "820b3735",
   "metadata": {},
   "source": [
    "from geopy.distance import geodesic"
   ]
  },
  {
   "cell_type": "raw",
   "id": "7186e9ff",
   "metadata": {},
   "source": [
    "geost=[]"
   ]
  },
  {
   "cell_type": "raw",
   "id": "6afcdd4c",
   "metadata": {},
   "source": [
    "\n",
    "for a,b in zip(df['coords'], df['code site']): \n",
    "    for yy,see in zip(df1['geo_point_2d'],df1['Code INSEE']):\n",
    "        if geodesic(a, yy).kilometers <= 4:\n",
    "            geost.append(b+'-'+see)\n",
    "            print(b+'-'+see)"
   ]
  },
  {
   "cell_type": "raw",
   "id": "8bcef00e",
   "metadata": {},
   "source": [
    "geost"
   ]
  },
  {
   "cell_type": "raw",
   "id": "0f47ceb1",
   "metadata": {},
   "source": [
    "dfgeost = pd.DataFrame(geost, columns = ['pair'])"
   ]
  },
  {
   "cell_type": "raw",
   "id": "140c1f03",
   "metadata": {},
   "source": [
    "dfgeost.head()"
   ]
  },
  {
   "cell_type": "raw",
   "id": "50e8ed6b",
   "metadata": {},
   "source": [
    "dfgeost.to_csv('staions_influence.csv')"
   ]
  },
  {
   "cell_type": "raw",
   "id": "37271d26",
   "metadata": {},
   "source": [
    "dfgeo=pd.read_csv('../data/staions_influence.csv', index_col=0)\n",
    "dfgeo.head(1)"
   ]
  },
  {
   "cell_type": "raw",
   "id": "1338e53b",
   "metadata": {},
   "source": [
    "dfgeo[['Station', 'CODGEO']] = dfgeo['pair'].str.split('-', 1, expand=True)\n",
    "dfgeo.drop(['pair'], axis=1,inplace=True)"
   ]
  },
  {
   "cell_type": "raw",
   "id": "91d227c3",
   "metadata": {},
   "source": [
    "dfgeo"
   ]
  },
  {
   "cell_type": "raw",
   "id": "4024d208",
   "metadata": {},
   "source": [
    "dfgeo.to_csv('../data/staions_influence_4.csv')"
   ]
  }
 ],
 "metadata": {
  "kernelspec": {
   "display_name": "Python 3 (ipykernel)",
   "language": "python",
   "name": "python3"
  },
  "language_info": {
   "codemirror_mode": {
    "name": "ipython",
    "version": 3
   },
   "file_extension": ".py",
   "mimetype": "text/x-python",
   "name": "python",
   "nbconvert_exporter": "python",
   "pygments_lexer": "ipython3",
   "version": "3.8.2"
  }
 },
 "nbformat": 4,
 "nbformat_minor": 5
}
